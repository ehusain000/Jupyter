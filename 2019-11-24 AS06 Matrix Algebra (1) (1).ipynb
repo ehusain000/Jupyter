{
 "cells": [
  {
   "cell_type": "code",
   "execution_count": 2,
   "metadata": {},
   "outputs": [],
   "source": [
    "# import libraries & setup plotting constants\n",
    "\n",
    "import numpy as np\n",
    "import numpy.linalg as la\n",
    "import scipy.linalg as sla\n",
    "\n",
    "# see https://docs.scipy.org/doc/numpy/reference/routines.linalg.html for linalg documentation"
   ]
  },
  {
   "cell_type": "code",
   "execution_count": 3,
   "metadata": {
    "scrolled": false
   },
   "outputs": [
    {
     "name": "stdout",
     "output_type": "stream",
     "text": [
      "\n",
      "Setup\n",
      "\n",
      "A =\n",
      " [[-3.  5.  7.]\n",
      " [ 2.  6.  4.]\n",
      " [ 0.  2.  8.]]\n",
      "\n",
      "Shape of A =  (3, 3)\n",
      "\n",
      "Dimensionality of A =  3\n",
      "\n",
      "At =\n",
      " [[-3.  2.  0.]\n",
      " [ 5.  6.  2.]\n",
      " [ 7.  4.  8.]]\n",
      "\n",
      "Shape of At =  (3, 3)\n",
      "\n",
      "B = \n",
      " [[4.]\n",
      " [5.]\n",
      " [6.]]\n",
      "\n",
      "Shape of B =  (3, 1)\n"
     ]
    }
   ],
   "source": [
    "# Setup\n",
    "print ('\\nSetup')\n",
    "\n",
    "A = np.array([[-3.,5.,7.],[2.,6.,4.],[0.,2.,8.]])\n",
    "print ('\\nA =\\n',A)\n",
    "print ('\\nShape of A = ',np.shape(A))\n",
    "n = np.shape(A)[0]\n",
    "print ('\\nDimensionality of A = ',n)\n",
    "\n",
    "At = np.transpose(A)\n",
    "print ('\\nAt =\\n',At)\n",
    "print ('\\nShape of At = ',np.shape(At))\n",
    "\n",
    "B = np.array([4.,5.,6.])\n",
    "B = B.reshape(3,1)\n",
    "print ('\\nB = \\n',B)\n",
    "print ('\\nShape of B = ',np.shape(B))"
   ]
  },
  {
   "cell_type": "code",
   "execution_count": 4,
   "metadata": {},
   "outputs": [
    {
     "name": "stdout",
     "output_type": "stream",
     "text": [
      "\n",
      "Matrix Inverses\n",
      "\n",
      "A =\n",
      " [[-3.  5.  7.]\n",
      " [ 2.  6.  4.]\n",
      " [ 0.  2.  8.]]\n",
      "\n",
      "A^-1 =\n",
      " [[-0.23255814  0.15116279  0.12790698]\n",
      " [ 0.09302326  0.13953488 -0.15116279]\n",
      " [-0.02325581 -0.03488372  0.1627907 ]]\n",
      "\n",
      "A * A^-1 (should be identity matrix) =\n",
      " [[ 1.00000000e+00  4.16333634e-17  8.32667268e-17]\n",
      " [-2.08166817e-16  1.00000000e+00  1.11022302e-16]\n",
      " [ 0.00000000e+00  0.00000000e+00  1.00000000e+00]]\n",
      "\n",
      "A^-1 * A (should be identity matrix) =\n",
      " [[ 1.00000000e+00 -4.44089210e-16 -4.44089210e-16]\n",
      " [ 0.00000000e+00  1.00000000e+00  2.22044605e-16]\n",
      " [ 0.00000000e+00  5.55111512e-17  1.00000000e+00]]\n",
      "\n",
      "[(A^-1)^-1] - A (should be 0) = \n",
      " [[ 0.00000000e+00 -8.88178420e-16 -1.77635684e-15]\n",
      " [ 0.00000000e+00  1.77635684e-15  8.88178420e-16]\n",
      " [ 0.00000000e+00  0.00000000e+00  0.00000000e+00]]\n"
     ]
    }
   ],
   "source": [
    "# Matrix inverses\n",
    "\n",
    "print ('\\nMatrix Inverses')\n",
    "\n",
    "invA = la.inv(A)\n",
    "print ('\\nA =\\n',A)\n",
    "print ('\\nA^-1 =\\n',invA)\n",
    "print ('\\nA * A^-1 (should be identity matrix) =\\n',np.matmul(A , invA))\n",
    "print ('\\nA^-1 * A (should be identity matrix) =\\n',np.matmul(invA , A))\n",
    "print ('\\n[(A^-1)^-1] - A (should be 0) = \\n',la.inv(invA)-A)"
   ]
  },
  {
   "cell_type": "code",
   "execution_count": null,
   "metadata": {},
   "outputs": [],
   "source": []
  }
 ],
 "metadata": {
  "anaconda-cloud": {},
  "kernelspec": {
   "display_name": "Python 3",
   "language": "python",
   "name": "python3"
  },
  "language_info": {
   "codemirror_mode": {
    "name": "ipython",
    "version": 3
   },
   "file_extension": ".py",
   "mimetype": "text/x-python",
   "name": "python",
   "nbconvert_exporter": "python",
   "pygments_lexer": "ipython3",
   "version": "3.7.4"
  }
 },
 "nbformat": 4,
 "nbformat_minor": 1
}
